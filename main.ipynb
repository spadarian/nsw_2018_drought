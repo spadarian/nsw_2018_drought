{
 "cells": [
  {
   "cell_type": "code",
   "execution_count": 1,
   "metadata": {},
   "outputs": [],
   "source": [
    "import folium\n",
    "import ee"
   ]
  },
  {
   "cell_type": "markdown",
   "metadata": {},
   "source": [
    "### Initialise Earth Engine\n",
    "\n",
    "For installation instructions, check the [documentation](https://developers.google.com/earth-engine/python_install)."
   ]
  },
  {
   "cell_type": "code",
   "execution_count": 2,
   "metadata": {
    "collapsed": true
   },
   "outputs": [],
   "source": [
    "ee.Initialize()"
   ]
  },
  {
   "cell_type": "markdown",
   "metadata": {},
   "source": [
    "#### Helper functions"
   ]
  },
  {
   "cell_type": "code",
   "execution_count": 3,
   "metadata": {
    "collapsed": true
   },
   "outputs": [],
   "source": [
    "# Define style for the difference map.\n",
    "# Red -100% difference; Blue +100% difference\n",
    "style_diff = '''\n",
    "<RasterSymbolizer>\\\n",
    "  <ColorMap  type=\"ramp\" extended=\"false\" >\n",
    "    <ColorMapEntry color=\"#ff0000\" quantity=\"-1\" label=\"0\"/>\n",
    "    <ColorMapEntry color=\"#555555\" quantity=\"0\" label=\"1\"/>\n",
    "    <ColorMapEntry color=\"#0000ff\" quantity=\"1\" label=\"2\"/>\n",
    "  </ColorMap>\n",
    "</RasterSymbolizer>'''\n",
    "\n",
    "def show_map(img):\n",
    "    '''Retrieve map info and display an interactive map.'''\n",
    "    d = img.getMapId()\n",
    "    url = 'https://earthengine.googleapis.com/map/{}/{{z}}/{{x}}/{{y}}?token={}'.format(d['mapid'], d['token'])\n",
    "    m = folium.Map(tiles='OpenStreetMap', location=[-33, 148], zoom_start=6)\n",
    "    attr = 'Map data &copy; <a href=\"mailto:jose.padarian@sydney.edu.au\">Jos&eacute; Padarian</a> </br><a rel=\"license\" href=\"http://creativecommons.org/licenses/by-sa/4.0/\"><img alt=\"Creative Commons License\" style=\"border-width:0;\" src=\"https://i.creativecommons.org/l/by-sa/4.0/88x31.png\" /></a><br />This work is licensed under a </br><a rel=\"license\" href=\"http://creativecommons.org/licenses/by-sa/4.0/\">Creative Commons Attribution-ShareAlike</br>4.0 International License</a>.'\n",
    "    layer = folium.TileLayer(url, attr=attr)\n",
    "    layer.add_to(m)\n",
    "    return m\n",
    "\n",
    "def select_clear_pixels(img):\n",
    "    '''Mask clouds, shadows, etc.'''\n",
    "    mask = ee.Image(img).select('pixel_qa').bitwiseAnd(2).neq(0)\n",
    "    return ee.Image(img).updateMask(mask)\n",
    "\n",
    "def get_ndvi(year):\n",
    "    '''Get NDVI image for the specified year'''\n",
    "    date_ini = '{}-06-01'.format(year)\n",
    "    date_end = '{}-08-15'.format(year)\n",
    "    col = ee.ImageCollection('LANDSAT/LC08/C01/T1_SR').filterDate(date_ini, date_end).filterBounds(nsw)\n",
    "    ndvi = ee.ImageCollection(col.map(select_clear_pixels)).median().normalizedDifference(['B5', 'B4'])\n",
    "    return ndvi"
   ]
  },
  {
   "cell_type": "code",
   "execution_count": 4,
   "metadata": {
    "collapsed": true
   },
   "outputs": [],
   "source": [
    "# Load NSW bondaries\n",
    "nsw = ee.FeatureCollection('users/spadarian/boundaries/NSW_simple')"
   ]
  },
  {
   "cell_type": "code",
   "execution_count": 5,
   "metadata": {
    "collapsed": true
   },
   "outputs": [],
   "source": [
    "ndvi_2018 = get_ndvi(2018)\n",
    "past_ndvi = ee.Image.cat([get_ndvi(y) for y in range(2014, 2017 + 1)]).reduce('mean')\n",
    "diff = ndvi_2018.subtract(past_ndvi).divide(past_ndvi).clip(nsw).sldStyle(style_diff)"
   ]
  },
  {
   "cell_type": "code",
   "execution_count": 6,
   "metadata": {},
   "outputs": [
    {
     "data": {
      "text/html": [
       "<div style=\"width:100%;\"><div style=\"position:relative;width:100%;height:0;padding-bottom:60%;\"><iframe src=\"data:text/html;charset=utf-8;base64,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\" style=\"position:absolute;width:100%;height:100%;left:0;top:0;border:none !important;\" allowfullscreen webkitallowfullscreen mozallowfullscreen></iframe></div></div>"
      ],
      "text/plain": [
       "<folium.folium.Map at 0x7f75800fea58>"
      ]
     },
     "execution_count": 6,
     "metadata": {},
     "output_type": "execute_result"
    }
   ],
   "source": [
    "show_map(diff)"
   ]
  }
 ],
 "metadata": {
  "kernelspec": {
   "display_name": "Python 3.6",
   "language": "python",
   "name": "python3.6"
  },
  "language_info": {
   "codemirror_mode": {
    "name": "ipython",
    "version": 3
   },
   "file_extension": ".py",
   "mimetype": "text/x-python",
   "name": "python",
   "nbconvert_exporter": "python",
   "pygments_lexer": "ipython3",
   "version": "3.6.3"
  }
 },
 "nbformat": 4,
 "nbformat_minor": 2
}
